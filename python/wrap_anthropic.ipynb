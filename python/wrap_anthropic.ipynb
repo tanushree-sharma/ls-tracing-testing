{
 "cells": [
  {
   "cell_type": "markdown",
   "id": "3e9900b4",
   "metadata": {},
   "source": [
    "# Testing wrap_openai + anthropic"
   ]
  },
  {
   "cell_type": "code",
   "execution_count": null,
   "id": "a160755b",
   "metadata": {},
   "outputs": [],
   "source": [
    "import os\n",
    "from dotenv import load_dotenv\n",
    "\n",
    "# Load environment variables from .env file\n",
    "load_dotenv()"
   ]
  },
  {
   "cell_type": "code",
   "execution_count": null,
   "id": "a4700b34",
   "metadata": {},
   "outputs": [],
   "source": [
    "import anthropic\n",
    "from langsmith import traceable\n",
    "from langsmith.wrappers import wrap_anthropic"
   ]
  },
  {
   "cell_type": "markdown",
   "id": "9c02e2fb",
   "metadata": {},
   "source": [
    "# Text input"
   ]
  },
  {
   "cell_type": "code",
   "execution_count": null,
   "id": "6c4a9342",
   "metadata": {},
   "outputs": [],
   "source": [
    "# simple text only example \n",
    "client = wrap_anthropic(anthropic.Anthropic())\n",
    "\n",
    "@traceable(run_type=\"tool\", name=\"Retrieve Context\")\n",
    "def my_tool(question: str) -> str:\n",
    "    return \"During this morning's meeting, we solved all world conflict.\"\n",
    "\n",
    "@traceable(name=\"Chat Pipeline\")\n",
    "def chat_pipeline(question: str):\n",
    "    context = my_tool(question)\n",
    "    messages = [\n",
    "        { \"role\": \"user\", \"content\": f\"Question: {question}\\nContext: {context}\"}\n",
    "    ]\n",
    "    messages = client.messages.create(\n",
    "      model=\"claude-sonnet-4-20250514\",\n",
    "      messages=messages,\n",
    "      max_tokens=1024,\n",
    "      system=\"You are a helpful assistant. Please respond to the user's request only based on the given context.\"\n",
    "    )\n",
    "    return messages\n",
    "\n",
    "\n",
    "\n",
    "chat_pipeline(\"Can you summarize this morning's meetings?\")\n"
   ]
  },
  {
   "cell_type": "markdown",
   "id": "1b8b7060",
   "metadata": {},
   "source": [
    "# PDF inputs base64"
   ]
  },
  {
   "cell_type": "code",
   "execution_count": null,
   "id": "348b26c5",
   "metadata": {},
   "outputs": [],
   "source": [
    "import base64\n",
    "import httpx\n",
    "from IPython.display import Image, display\n",
    "\n",
    "pdf_url = \"https://pdfobject.com/pdf/sample.pdf\"\n",
    "pdf_data = base64.b64encode(httpx.get(pdf_url).content).decode(\"utf-8\")\n",
    "\n",
    "\n",
    "response_multimodal = client.messages.create(\n",
    "    model=\"claude-sonnet-4-5\",\n",
    "    max_tokens=1024,\n",
    "    messages=[\n",
    "        {\"role\": \"user\", \"content\": [\n",
    "                {\"type\": \"document\", \"source\": {\n",
    "                    \"type\": \"base64\",\n",
    "                    \"media_type\": \"application/pdf\",\n",
    "                    \"data\": pdf_data\n",
    "                }},\n",
    "                {\"type\": \"text\", \"text\": \"what is in this pdf?\"}\n",
    "\n",
    "        ]}    ],\n",
    ")\n"
   ]
  },
  {
   "cell_type": "markdown",
   "id": "7cca51c4",
   "metadata": {},
   "source": [
    "## bug: we are logging <anthropic.Omit object at 0x11084ba10>\" \n",
    "\n",
    "we should strip this message before we log traces. we also show it in the \"Default\" rendering in the system message\n",
    "\n",
    "https://smith.langchain.com/o/ebbaf2eb-769b-4505-aca2-d11de10372a4/projects/p/5b35f59d-3a34-49d1-b6bb-b31d3cf45367?columnVisibilityModel=%7B%22feedback_stats%22%3Afalse%2C%22reference_example%22%3Afalse%2C%22start_time%22%3Atrue%2C%22inputs%22%3Atrue%2C%22outputs%22%3Atrue%2C%22error%22%3Atrue%2C%22latency%22%3Atrue%2C%22in_dataset%22%3Afalse%2C%22last_queued_at%22%3Afalse%2C%22total_tokens%22%3Atrue%2C%22total_cost%22%3Atrue%2C%22first_token_time%22%3Afalse%2C%22tags%22%3Atrue%2C%22metadata%22%3Atrue%2C%22reference_example_id%22%3Atrue%7D&timeModel=%7B%22duration%22%3A%227d%22%7D&runtab=0&tab=0&peek=1e823f71-c77b-40ba-a20f-a5806f20ff66&peeked_trace=1e823f71-c77b-40ba-a20f-a5806f20ff66"
   ]
  },
  {
   "cell_type": "markdown",
   "id": "5701ea86",
   "metadata": {},
   "source": [
    "# Image inputs base64"
   ]
  },
  {
   "cell_type": "code",
   "execution_count": null,
   "id": "734c6e40",
   "metadata": {},
   "outputs": [],
   "source": [
    "image_url = \"https://upload.wikimedia.org/wikipedia/commons/a/a7/Camponotus_flavomarginatus_ant.jpg\"\n",
    "image_data = base64.b64encode(httpx.get(image_url).content).decode(\"utf-8\")\n",
    "\n",
    "response_multimodal = client.messages.create(\n",
    "    model=\"claude-sonnet-4-5\",\n",
    "    max_tokens=1024,\n",
    "    messages=[\n",
    "        {\"role\": \"user\", \"content\": [\n",
    "                {\"type\": \"image\", \"source\": {\n",
    "                    \"type\": \"base64\",\n",
    "                    \"media_type\": \"image/jpeg\",\n",
    "                    \"data\": image_data\n",
    "                }},\n",
    "                {\"type\": \"text\", \"text\": \"what is in this image?\"}\n",
    "\n",
    "        ]}    ],\n",
    ")"
   ]
  },
  {
   "cell_type": "markdown",
   "id": "4c8b2e33",
   "metadata": {},
   "source": [
    "# PDF inputs URL"
   ]
  },
  {
   "cell_type": "code",
   "execution_count": null,
   "id": "55aff1b5",
   "metadata": {},
   "outputs": [],
   "source": [
    "image_url = \"https://upload.wikimedia.org/wikipedia/commons/a/a7/Camponotus_flavomarginatus_ant.jpg\"\n",
    "\n",
    "response_multimodal = client.messages.create(\n",
    "    model=\"claude-sonnet-4-5\",\n",
    "    max_tokens=1024,\n",
    "    messages=[\n",
    "        {\"role\": \"user\", \"content\": [\n",
    "                {\"type\": \"image\", \"source\": {\n",
    "                    \"type\": \"url\",\n",
    "                    \"url\": image_url\n",
    "                }},\n",
    "                {\"type\": \"text\", \"text\": \"what is in this image?\"}\n",
    "\n",
    "        ]}    ],\n",
    ")"
   ]
  },
  {
   "cell_type": "markdown",
   "id": "3cc25c39",
   "metadata": {},
   "source": [
    "# Tools"
   ]
  },
  {
   "cell_type": "code",
   "execution_count": null,
   "id": "fa00425d",
   "metadata": {},
   "outputs": [],
   "source": [
    "response = client.messages.create(\n",
    "    model=\"claude-sonnet-4-5\",\n",
    "    max_tokens=1024,\n",
    "    tools=[\n",
    "        {\n",
    "            \"name\": \"get_weather\",\n",
    "            \"description\": \"Get the current weather in a given location\",\n",
    "            \"input_schema\": {\n",
    "                \"type\": \"object\",\n",
    "                \"properties\": {\n",
    "                    \"location\": {\n",
    "                        \"type\": \"string\",\n",
    "                        \"description\": \"The city and state, e.g. San Francisco, CA\",\n",
    "                    }\n",
    "                },\n",
    "                \"required\": [\"location\"],\n",
    "            },\n",
    "        }\n",
    "    ],\n",
    "    messages=[{\"role\": \"user\", \"content\": \"What's the weather like in San Francisco?\"}],\n",
    ")"
   ]
  },
  {
   "cell_type": "markdown",
   "id": "6291992f",
   "metadata": {},
   "source": [
    "## bug: we don't show that the tool was called in the \"Tools\" section \n",
    "\n",
    "https://smith.langchain.com/o/ebbaf2eb-769b-4505-aca2-d11de10372a4/projects/p/5b35f59d-3a34-49d1-b6bb-b31d3cf45367?columnVisibilityModel=%7B%22feedback_stats%22%3Afalse%2C%22reference_example%22%3Afalse%2C%22start_time%22%3Atrue%2C%22inputs%22%3Atrue%2C%22outputs%22%3Atrue%2C%22error%22%3Atrue%2C%22latency%22%3Atrue%2C%22in_dataset%22%3Afalse%2C%22last_queued_at%22%3Afalse%2C%22total_tokens%22%3Atrue%2C%22total_cost%22%3Atrue%2C%22first_token_time%22%3Afalse%2C%22tags%22%3Atrue%2C%22metadata%22%3Atrue%2C%22reference_example_id%22%3Atrue%7D&timeModel=%7B%22duration%22%3A%227d%22%7D&runtab=0&tab=0&peek=d190eb5b-9648-4ac6-9569-7008ba1806ea&peeked_trace=d190eb5b-9648-4ac6-9569-7008ba1806ea"
   ]
  },
  {
   "cell_type": "markdown",
   "id": "fd90e6bc",
   "metadata": {},
   "source": [
    "# JSON Mode"
   ]
  },
  {
   "cell_type": "code",
   "execution_count": null,
   "id": "34683731",
   "metadata": {},
   "outputs": [],
   "source": [
    "image_url = \"https://upload.wikimedia.org/wikipedia/commons/a/a7/Camponotus_flavomarginatus_ant.jpg\"\n",
    "image_media_type = \"image/jpeg\"\n",
    "image_data = base64.standard_b64encode(httpx.get(image_url).content).decode(\"utf-8\")\n",
    "\n",
    "message = client.messages.create(\n",
    "    model=\"claude-sonnet-4-5\",\n",
    "    max_tokens=1024,\n",
    "    tools=[\n",
    "        {\n",
    "            \"name\": \"record_summary\",\n",
    "            \"description\": \"Record summary of an image using well-structured JSON.\",\n",
    "            \"input_schema\": {\n",
    "                \"type\": \"object\",\n",
    "                \"properties\": {\n",
    "                    \"key_colors\": {\n",
    "                        \"type\": \"array\",\n",
    "                        \"items\": {\n",
    "                            \"type\": \"object\",\n",
    "                            \"properties\": {\n",
    "                                \"r\": {\n",
    "                                    \"type\": \"number\",\n",
    "                                    \"description\": \"red value [0.0, 1.0]\",\n",
    "                                },\n",
    "                                \"g\": {\n",
    "                                    \"type\": \"number\",\n",
    "                                    \"description\": \"green value [0.0, 1.0]\",\n",
    "                                },\n",
    "                                \"b\": {\n",
    "                                    \"type\": \"number\",\n",
    "                                    \"description\": \"blue value [0.0, 1.0]\",\n",
    "                                },\n",
    "                                \"name\": {\n",
    "                                    \"type\": \"string\",\n",
    "                                    \"description\": \"Human-readable color name in snake_case, e.g. \\\"olive_green\\\" or \\\"turquoise\\\"\"\n",
    "                                },\n",
    "                            },\n",
    "                            \"required\": [\"r\", \"g\", \"b\", \"name\"],\n",
    "                        },\n",
    "                        \"description\": \"Key colors in the image. Limit to less than four.\",\n",
    "                    },\n",
    "                    \"description\": {\n",
    "                        \"type\": \"string\",\n",
    "                        \"description\": \"Image description. One to two sentences max.\",\n",
    "                    },\n",
    "                    \"estimated_year\": {\n",
    "                        \"type\": \"integer\",\n",
    "                        \"description\": \"Estimated year that the image was taken, if it is a photo. Only set this if the image appears to be non-fictional. Rough estimates are okay!\",\n",
    "                    },\n",
    "                },\n",
    "                \"required\": [\"key_colors\", \"description\"],\n",
    "            },\n",
    "        }\n",
    "    ],\n",
    "    tool_choice={\"type\": \"tool\", \"name\": \"record_summary\"},\n",
    "    messages=[\n",
    "        {\n",
    "            \"role\": \"user\",\n",
    "            \"content\": [\n",
    "                {\n",
    "                    \"type\": \"image\",\n",
    "                    \"source\": {\n",
    "                        \"type\": \"base64\",\n",
    "                        \"media_type\": image_media_type,\n",
    "                        \"data\": image_data,\n",
    "                    },\n",
    "                },\n",
    "                {\"type\": \"text\", \"text\": \"Describe this image.\"},\n",
    "            ],\n",
    "        }\n",
    "    ],\n",
    ")"
   ]
  },
  {
   "cell_type": "markdown",
   "id": "7459fa60",
   "metadata": {},
   "source": [
    "# Web search tool"
   ]
  },
  {
   "cell_type": "code",
   "execution_count": null,
   "id": "495093fd",
   "metadata": {},
   "outputs": [],
   "source": [
    "client.messages.create(\n",
    "    model=\"claude-sonnet-4-5\",\n",
    "    max_tokens=1024,\n",
    "    messages=[\n",
    "        {\n",
    "            \"role\": \"user\",\n",
    "            \"content\": \"What's the weather in NYC?\"\n",
    "        }\n",
    "    ],\n",
    "    tools=[{\n",
    "        \"type\": \"web_search_20250305\",\n",
    "        \"name\": \"web_search\",\n",
    "        \"max_uses\": 5\n",
    "    }]\n",
    ")"
   ]
  },
  {
   "cell_type": "code",
   "execution_count": null,
   "id": "77bb026e",
   "metadata": {},
   "outputs": [],
   "source": [
    "# Code execution tool"
   ]
  },
  {
   "cell_type": "code",
   "execution_count": null,
   "id": "83786014",
   "metadata": {},
   "outputs": [],
   "source": [
    "client.beta.messages.create(\n",
    "    model=\"claude-sonnet-4-5\",\n",
    "    betas=[\"code-execution-2025-08-25\"],\n",
    "    max_tokens=4096,\n",
    "    messages=[{\n",
    "        \"role\": \"user\",\n",
    "        \"content\": \"Calculate the mean and standard deviation of [1, 2, 3, 4, 5, 6, 7, 8, 9, 10]\"\n",
    "    }],\n",
    "    tools=[{\n",
    "        \"type\": \"code_execution_20250825\",\n",
    "        \"name\": \"code_execution\"\n",
    "    }]\n",
    ")"
   ]
  },
  {
   "cell_type": "markdown",
   "id": "d52d79d1",
   "metadata": {},
   "source": [
    "# Files API"
   ]
  },
  {
   "cell_type": "code",
   "execution_count": null,
   "id": "e15f69de",
   "metadata": {},
   "outputs": [],
   "source": [
    "# Upload the image file\n",
    "with open(\"blog.jpg\", \"rb\") as f:\n",
    "    file_upload = client.beta.files.upload(file=(\"blog.jpg\", f, \"image/jpeg\"))\n",
    "\n",
    "# Use the uploaded file in a message\n",
    "message = client.beta.messages.create(\n",
    "    model=\"claude-sonnet-4-5\",\n",
    "    max_tokens=1024,\n",
    "    betas=[\"files-api-2025-04-14\"],\n",
    "    messages=[\n",
    "        {\n",
    "            \"role\": \"user\",\n",
    "            \"content\": [\n",
    "                {\n",
    "                    \"type\": \"image\",\n",
    "                    \"source\": {\n",
    "                        \"type\": \"file\",\n",
    "                        \"file_id\": file_upload.id\n",
    "                    }\n",
    "                },\n",
    "                {\n",
    "                    \"type\": \"text\",\n",
    "                    \"text\": \"Describe this image.\"\n",
    "                }\n",
    "            ]\n",
    "        }\n",
    "    ],\n",
    ")"
   ]
  },
  {
   "cell_type": "markdown",
   "id": "5f723d50",
   "metadata": {},
   "source": [
    "## bug: Doesn't render the image \n",
    "https://smith.langchain.com/o/ebbaf2eb-769b-4505-aca2-d11de10372a4/projects/p/5b35f59d-3a34-49d1-b6bb-b31d3cf45367?columnVisibilityModel=%7B%22feedback_stats%22%3Afalse%2C%22reference_example%22%3Afalse%2C%22start_time%22%3Atrue%2C%22inputs%22%3Atrue%2C%22outputs%22%3Atrue%2C%22error%22%3Atrue%2C%22latency%22%3Atrue%2C%22in_dataset%22%3Afalse%2C%22last_queued_at%22%3Afalse%2C%22total_tokens%22%3Atrue%2C%22total_cost%22%3Atrue%2C%22first_token_time%22%3Afalse%2C%22tags%22%3Atrue%2C%22metadata%22%3Atrue%2C%22reference_example_id%22%3Atrue%7D&timeModel=%7B%22duration%22%3A%227d%22%7D&runtab=0&tab=0&peek=df4fe0cb-d36e-4216-af23-0c694aca3b68&peeked_trace=df4fe0cb-d36e-4216-af23-0c694aca3b68"
   ]
  },
  {
   "cell_type": "markdown",
   "id": "6c318db2",
   "metadata": {},
   "source": [
    "# MCP "
   ]
  },
  {
   "cell_type": "code",
   "execution_count": null,
   "id": "d332abd6",
   "metadata": {},
   "outputs": [],
   "source": [
    "client.beta.messages.create(\n",
    "    model=\"claude-sonnet-4-5\",\n",
    "    max_tokens=1000,\n",
    "    messages=[{\n",
    "        \"role\": \"user\",\n",
    "        \"content\": \"Get the last 5 tickets from linear\"\n",
    "    }],\n",
    "    mcp_servers=[{\n",
    "        \"type\": \"url\",\n",
    "        \"url\": \"https://mcp.linear.app/sse\",\n",
    "        \"name\": \"linear-mcp\",\n",
    "        \"authorization_token\": \"XXX\",\n",
    "        \"tool_configuration\": {\n",
    "            \"enabled\": True,\n",
    "            \"allowed_tools\": [\"list_issues\", \"get_issue\"]\n",
    "        }\n",
    "        }],\n",
    "    betas=[\"mcp-client-2025-04-04\"]\n",
    ")"
   ]
  },
  {
   "cell_type": "markdown",
   "id": "0a152581",
   "metadata": {},
   "source": [
    "## gap: we don't render tools available from an MCP server\n",
    "\n",
    "If a list of tools is included via allowed_tools, we should render them like we do regular tools (see mcp-rendering.png)"
   ]
  },
  {
   "cell_type": "markdown",
   "id": "15f61075",
   "metadata": {},
   "source": [
    "## P1 Citations don't render:\n",
    "\n",
    "Anthropic docs: https://docs.claude.com/en/docs/build-with-claude/citations\n",
    "\n",
    "\n",
    "LangSmith trace: https://smith.langchain.com/o/ebbaf2eb-769b-4505-aca2-d11de10372a4/projects/p/5b35f59d-3a34-49d1-b6bb-b31d3cf45367?columnVisibilityModel=%7B%22feedback_stats%22%3Afalse%2C%22reference_example%22%3Afalse%2C%22start_time%22%3Atrue%2C%22inputs%22%3Atrue%2C%22outputs%22%3Atrue%2C%22error%22%3Atrue%2C%22latency%22%3Atrue%2C%22in_dataset%22%3Afalse%2C%22last_queued_at%22%3Afalse%2C%22total_tokens%22%3Atrue%2C%22total_cost%22%3Atrue%2C%22first_token_time%22%3Afalse%2C%22tags%22%3Atrue%2C%22metadata%22%3Atrue%2C%22reference_example_id%22%3Atrue%7D&timeModel=%7B%22duration%22%3A%227d%22%7D&runtab=0&peek=1394ca90-7be0-4061-9d8b-04a73b1726e2&peeked_trace=1394ca90-7be0-4061-9d8b-04a73b1726e2"
   ]
  },
  {
   "cell_type": "code",
   "execution_count": null,
   "id": "9fc41ca1",
   "metadata": {},
   "outputs": [],
   "source": [
    "# testing citations \n",
    "\n",
    "from langsmith import traceable\n",
    "\n",
    "#ignore\n",
    "inputs2 = {\"messages\": [ {\n",
    "  \"role\": \"tool\",\n",
    "  \"tool_call_id\": \"call_1\",\n",
    "  \"content\": \"{\\\"result\\\":36}\",\n",
    "}]}\n",
    "\n",
    "\n",
    "outputs4 = {\n",
    "  \"messages\": [\n",
    "      {\n",
    "        \"role\": \"user\",\n",
    "        \"content\": [\n",
    "          {\n",
    "            \"type\": \"document\",\n",
    "            \"source\": {\n",
    "              \"type\": \"text\",\n",
    "              #\"media_type\": \"text/plain\", need to comment out or we see a warning  https://smith.langchain.com/o/ebbaf2eb-769b-4505-aca2-d11de10372a4/projects/p/5b35f59d-3a34-49d1-b6bb-b31d3cf45367?columnVisibilityModel=%7B%22feedback_stats%22%3Afalse%2C%22reference_example%22%3Afalse%2C%22start_time%22%3Atrue%2C%22inputs%22%3Atrue%2C%22outputs%22%3Atrue%2C%22error%22%3Atrue%2C%22latency%22%3Atrue%2C%22in_dataset%22%3Afalse%2C%22last_queued_at%22%3Afalse%2C%22total_tokens%22%3Atrue%2C%22total_cost%22%3Atrue%2C%22first_token_time%22%3Afalse%2C%22tags%22%3Atrue%2C%22metadata%22%3Atrue%2C%22reference_example_id%22%3Atrue%7D&timeModel=%7B%22duration%22%3A%227d%22%7D&runtab=0&peek=69185654-cd05-4ee9-8a72-5363a0b8ea0d&peeked_trace=69185654-cd05-4ee9-8a72-5363a0b8ea0d\n",
    "              \"data\": \"The grass is green. The sky is blue.\"\n",
    "            },\n",
    "            \"title\": \"My Document\",\n",
    "            \"context\": \"This is a trustworthy document.\",\n",
    "            \"citations\": {\"enabled\": True}\n",
    "          },\n",
    "          {\n",
    "            \"type\": \"text\",\n",
    "            \"text\": \"What color is the grass and sky?\"\n",
    "          }\n",
    "        ]\n",
    "      }\n",
    "    ]\n",
    "}\n",
    "\n",
    "@traceable(run_type=\"llm\")\n",
    "def llm_raw(inputs):\n",
    "    return outputs4\n",
    "\n",
    "\n",
    "llm_raw(inputs2)"
   ]
  }
 ],
 "metadata": {
  "kernelspec": {
   "display_name": ".venv",
   "language": "python",
   "name": "python3"
  },
  "language_info": {
   "codemirror_mode": {
    "name": "ipython",
    "version": 3
   },
   "file_extension": ".py",
   "mimetype": "text/x-python",
   "name": "python",
   "nbconvert_exporter": "python",
   "pygments_lexer": "ipython3",
   "version": "3.13.1"
  }
 },
 "nbformat": 4,
 "nbformat_minor": 5
}
