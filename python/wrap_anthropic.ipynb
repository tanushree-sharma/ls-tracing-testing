{
 "cells": [
  {
   "cell_type": "markdown",
   "id": "3e9900b4",
   "metadata": {},
   "source": [
    "# Testing wrap_openai + anthropic"
   ]
  },
  {
   "cell_type": "code",
   "execution_count": null,
   "id": "a160755b",
   "metadata": {},
   "outputs": [],
   "source": [
    "import os\n",
    "from dotenv import load_dotenv\n",
    "\n",
    "# Load environment variables from .env file\n",
    "load_dotenv()"
   ]
  },
  {
   "cell_type": "markdown",
   "id": "15f61075",
   "metadata": {},
   "source": [
    "# P1\n",
    "\n",
    "Citations don't render:\n",
    "\n",
    "Anthropic docs: https://docs.claude.com/en/docs/build-with-claude/citations\n",
    "\n",
    "\n",
    "LangSmith trace: https://smith.langchain.com/o/ebbaf2eb-769b-4505-aca2-d11de10372a4/projects/p/5b35f59d-3a34-49d1-b6bb-b31d3cf45367?columnVisibilityModel=%7B%22feedback_stats%22%3Afalse%2C%22reference_example%22%3Afalse%2C%22start_time%22%3Atrue%2C%22inputs%22%3Atrue%2C%22outputs%22%3Atrue%2C%22error%22%3Atrue%2C%22latency%22%3Atrue%2C%22in_dataset%22%3Afalse%2C%22last_queued_at%22%3Afalse%2C%22total_tokens%22%3Atrue%2C%22total_cost%22%3Atrue%2C%22first_token_time%22%3Afalse%2C%22tags%22%3Atrue%2C%22metadata%22%3Atrue%2C%22reference_example_id%22%3Atrue%7D&timeModel=%7B%22duration%22%3A%227d%22%7D&runtab=0&peek=1394ca90-7be0-4061-9d8b-04a73b1726e2&peeked_trace=1394ca90-7be0-4061-9d8b-04a73b1726e2"
   ]
  },
  {
   "cell_type": "code",
   "execution_count": null,
   "id": "9fc41ca1",
   "metadata": {},
   "outputs": [],
   "source": [
    "from langsmith import traceable\n",
    "\n",
    "#ignore\n",
    "inputs2 = {\"messages\": [ {\n",
    "  \"role\": \"tool\",\n",
    "  \"tool_call_id\": \"call_1\",\n",
    "  \"content\": \"{\\\"result\\\":36}\",\n",
    "}]}\n",
    "\n",
    "\n",
    "outputs4 = {\n",
    "  \"messages\": [\n",
    "      {\n",
    "        \"role\": \"user\",\n",
    "        \"content\": [\n",
    "          {\n",
    "            \"type\": \"document\",\n",
    "            \"source\": {\n",
    "              \"type\": \"text\",\n",
    "              #\"media_type\": \"text/plain\", need to comment out or we see a warning  https://smith.langchain.com/o/ebbaf2eb-769b-4505-aca2-d11de10372a4/projects/p/5b35f59d-3a34-49d1-b6bb-b31d3cf45367?columnVisibilityModel=%7B%22feedback_stats%22%3Afalse%2C%22reference_example%22%3Afalse%2C%22start_time%22%3Atrue%2C%22inputs%22%3Atrue%2C%22outputs%22%3Atrue%2C%22error%22%3Atrue%2C%22latency%22%3Atrue%2C%22in_dataset%22%3Afalse%2C%22last_queued_at%22%3Afalse%2C%22total_tokens%22%3Atrue%2C%22total_cost%22%3Atrue%2C%22first_token_time%22%3Afalse%2C%22tags%22%3Atrue%2C%22metadata%22%3Atrue%2C%22reference_example_id%22%3Atrue%7D&timeModel=%7B%22duration%22%3A%227d%22%7D&runtab=0&peek=69185654-cd05-4ee9-8a72-5363a0b8ea0d&peeked_trace=69185654-cd05-4ee9-8a72-5363a0b8ea0d\n",
    "              \"data\": \"The grass is green. The sky is blue.\"\n",
    "            },\n",
    "            \"title\": \"My Document\",\n",
    "            \"context\": \"This is a trustworthy document.\",\n",
    "            \"citations\": {\"enabled\": True}\n",
    "          },\n",
    "          {\n",
    "            \"type\": \"text\",\n",
    "            \"text\": \"What color is the grass and sky?\"\n",
    "          }\n",
    "        ]\n",
    "      }\n",
    "    ]\n",
    "}\n",
    "\n",
    "@traceable(run_type=\"llm\")\n",
    "def llm_raw(inputs):\n",
    "    return outputs4\n",
    "\n",
    "\n",
    "llm_raw(inputs2)"
   ]
  }
 ],
 "metadata": {
  "kernelspec": {
   "display_name": ".venv",
   "language": "python",
   "name": "python3"
  },
  "language_info": {
   "codemirror_mode": {
    "name": "ipython",
    "version": 3
   },
   "file_extension": ".py",
   "mimetype": "text/x-python",
   "name": "python",
   "nbconvert_exporter": "python",
   "pygments_lexer": "ipython3",
   "version": "3.13.1"
  }
 },
 "nbformat": 4,
 "nbformat_minor": 5
}
